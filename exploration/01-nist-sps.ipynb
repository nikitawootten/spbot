{
 "cells": [
  {
   "cell_type": "markdown",
   "metadata": {},
   "source": [
    "# Exploration - Scraping NIST SPs"
   ]
  },
  {
   "cell_type": "code",
   "execution_count": 7,
   "metadata": {},
   "outputs": [],
   "source": [
    "import requests\n",
    "from lxml import html"
   ]
  },
  {
   "cell_type": "code",
   "execution_count": 5,
   "metadata": {},
   "outputs": [],
   "source": [
    "response = requests.get(\"https://csrc.nist.gov/publications/sp\")\n",
    "assert response.status_code == 200"
   ]
  },
  {
   "cell_type": "code",
   "execution_count": 37,
   "metadata": {},
   "outputs": [
    {
     "name": "stdout",
     "output_type": "stream",
     "text": [
      "Number of SPs: 293\n"
     ]
    }
   ],
   "source": [
    "page = html.fromstring(response.content)\n",
    "\n",
    "results_table_items = page.xpath(\"//table[@id='publications-results-table']/tbody/tr\")\n",
    "\n",
    "print(\"Number of SPs:\", len(results_table_items))"
   ]
  },
  {
   "cell_type": "code",
   "execution_count": 32,
   "metadata": {},
   "outputs": [
    {
     "data": {
      "text/plain": [
       "{'status': 'Final',\n",
       " 'release_date': '12/10/2020',\n",
       " 'title': 'Control Baselines for Information Systems and Organizations',\n",
       " 'href': 'https://csrc.nist.gov/pubs/sp/800/53/b/upd1/final'}"
      ]
     },
     "execution_count": 32,
     "metadata": {},
     "output_type": "execute_result"
    }
   ],
   "source": [
    "sps = {}\n",
    "\n",
    "for result in results_table_items:\n",
    "    series = result.xpath(\"td[starts-with(@id, 'pub-series-')]/text()\")[0].strip()\n",
    "    number = result.xpath(\"td[starts-with(@id, 'pub-number-')]/text()\")[0].strip()\n",
    "    status = result.xpath(\"td[starts-with(@id, 'pub-status-')]/text()\")[0].strip()\n",
    "    release_date = result.xpath(\"td[starts-with(@id, 'pub-release-date-')]/text()\")[0].strip()\n",
    "\n",
    "    title = result.xpath(\".//a[starts-with(@id, 'pub-title-link-')]/text()\")[0].strip()\n",
    "    href = result.xpath(\".//a[starts-with(@id, 'pub-title-link-')]/@href\")[0].strip()\n",
    "\n",
    "    sps[f\"{series} {number}\"] = {\n",
    "        'status': status,\n",
    "        'release_date': release_date,\n",
    "        'title': title,\n",
    "        'href': f\"https://csrc.nist.gov{href}\",\n",
    "    }\n",
    "\n",
    "sps[\"SP 800-53B\"]"
   ]
  },
  {
   "cell_type": "code",
   "execution_count": 35,
   "metadata": {},
   "outputs": [
    {
     "data": {
      "text/plain": [
       "['https://nvlpubs.nist.gov/nistpubs/SpecialPublications/NIST.SP.800-53B.pdf']"
      ]
     },
     "execution_count": 35,
     "metadata": {},
     "output_type": "execute_result"
    }
   ],
   "source": [
    "def get_sp_pub_links(href: str) -> list[str]:\n",
    "    response = requests.get(href)\n",
    "    page = html.fromstring(response.content)\n",
    "\n",
    "    # Note that multiple links will share the same ID :/\n",
    "    return page.xpath(\"//a[@id='pub-local-download-link']/@href\")\n",
    "\n",
    "get_sp_pub_links(sps[\"SP 800-53B\"][\"href\"])"
   ]
  },
  {
   "cell_type": "code",
   "execution_count": 36,
   "metadata": {},
   "outputs": [
    {
     "data": {
      "text/plain": [
       "{'status': 'Final',\n",
       " 'release_date': '12/10/2020',\n",
       " 'title': 'Control Baselines for Information Systems and Organizations',\n",
       " 'href': 'https://csrc.nist.gov/pubs/sp/800/53/b/upd1/final',\n",
       " 'pub_links': ['https://nvlpubs.nist.gov/nistpubs/SpecialPublications/NIST.SP.800-53B.pdf']}"
      ]
     },
     "execution_count": 36,
     "metadata": {},
     "output_type": "execute_result"
    }
   ],
   "source": [
    "# TODO maybe avoid DOS-ing a government website\n",
    "for key, value in sps.items():\n",
    "    sps[key][\"pub_links\"] = get_sp_pub_links(value[\"href\"])\n",
    "\n",
    "sps[\"SP 800-53B\"]"
   ]
  }
 ],
 "metadata": {
  "kernelspec": {
   "display_name": "spbot--a0a-mZv-py3.11",
   "language": "python",
   "name": "python3"
  },
  "language_info": {
   "codemirror_mode": {
    "name": "ipython",
    "version": 3
   },
   "file_extension": ".py",
   "mimetype": "text/x-python",
   "name": "python",
   "nbconvert_exporter": "python",
   "pygments_lexer": "ipython3",
   "version": "3.11.8"
  }
 },
 "nbformat": 4,
 "nbformat_minor": 2
}
