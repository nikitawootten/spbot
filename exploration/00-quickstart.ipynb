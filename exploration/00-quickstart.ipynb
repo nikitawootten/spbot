{
 "cells": [
  {
   "cell_type": "markdown",
   "metadata": {},
   "source": [
    "# Langchain Exploration - Quickstart\n",
    "\n",
    "In this notebook I explore the basics of Lanchain + PDF retrieval."
   ]
  },
  {
   "cell_type": "code",
   "execution_count": 1,
   "metadata": {},
   "outputs": [],
   "source": [
    "from langchain_community.llms import Ollama\n",
    "\n",
    "llm = Ollama(model=\"llama2\")"
   ]
  },
  {
   "cell_type": "code",
   "execution_count": 2,
   "metadata": {},
   "outputs": [
    {
     "name": "stdout",
     "output_type": "stream",
     "text": [
      "\n",
      "The famous Monty Python and the Holy Grail quote about the swallow is:\n",
      "\n",
      "\"Never underestimate the power of a good swallow.\"\n",
      "\n",
      "This quote is spoken by King Arthur in the film, as he is trying to convince his knights that they should not underestimate the abilities of the peasant woman who has just been accused of stealing the Holy Grail. The knights are skeptical and dismissive of her, but King Arthur argues that she may have powers beyond their comprehension:\n",
      "\n",
      "\"She's got legs, sir! She's got legs!\"\n",
      "\n",
      "The quote has become a catchphrase and cultural reference point, often used humorously or ironically to refer to something that seems unexpectedly powerful or impressive.\n"
     ]
    }
   ],
   "source": [
    "print(llm.invoke(\"What's that Monty Python and the Holy Grail quote about the swallow?\"))"
   ]
  },
  {
   "cell_type": "markdown",
   "metadata": {},
   "source": [
    "## PDF Loading\n",
    "\n",
    "Following https://python.langchain.com/docs/modules/data_connection/document_loaders/pdf/"
   ]
  },
  {
   "cell_type": "code",
   "execution_count": 3,
   "metadata": {},
   "outputs": [],
   "source": [
    "from langchain_community.document_loaders import PyPDFLoader\n",
    "\n",
    "loader = PyPDFLoader(\"https://nvlpubs.nist.gov/nistpubs/SpecialPublications/NIST.SP.800-207.pdf\")\n",
    "pages = loader.load_and_split()"
   ]
  },
  {
   "cell_type": "code",
   "execution_count": 4,
   "metadata": {},
   "outputs": [
    {
     "data": {
      "text/plain": [
       "Document(page_content='NIST Special Publication 800 -207 \\n \\nZero Trust Architecture  \\n \\n \\nScott Rose  \\nOliver Borchert  \\nStu Mitchell \\nSean Connelly  \\n \\n \\n \\n \\nThis publication is available free of charge from:  \\nhttps://doi.org/10.6028/ NIST.SP.800- 207 \\n \\n \\n C  O  M  P  U  T  E  R      S  E  C  U  R  I  T  Y', metadata={'source': 'https://nvlpubs.nist.gov/nistpubs/SpecialPublications/NIST.SP.800-207.pdf', 'page': 0})"
      ]
     },
     "execution_count": 4,
     "metadata": {},
     "output_type": "execute_result"
    }
   ],
   "source": [
    "pages[0]"
   ]
  },
  {
   "cell_type": "code",
   "execution_count": 5,
   "metadata": {},
   "outputs": [],
   "source": [
    "from langchain_community.embeddings.ollama import OllamaEmbeddings\n",
    "from langchain_community.vectorstores import FAISS\n",
    "\n",
    "faiss_index = FAISS.from_documents(pages, OllamaEmbeddings())"
   ]
  },
  {
   "cell_type": "code",
   "execution_count": 6,
   "metadata": {},
   "outputs": [
    {
     "data": {
      "text/plain": [
       "[Document(page_content='NIST  SP 800-207  ZERO TRUST ARCHITECTURE  \\n   \\n43 \\nThis publication is available free of charge from: https:// doi.org/10.6028/ NIST.SP.800 -207 Program. (The White House, Washington, DC), OMB Memorandum M -\\n19-03, December 10, 2018. Available at https://www.whitehouse.gov/wp-\\ncontent/uploads/2018/12/M -19-03.pdf  \\n[M-19-17] Office of Management and Budget (2019) Enabling Mission Delivery \\nthrough Improved Identity, Credential, and Access Management. (The \\nWhite House, Washington, DC), OMB Memorandum M -19-17, May 21, \\n2019. Available at https://www.whitehouse.gov/wp-\\ncontent/uploads/2019/05/M -19-17.pdf  \\n[M-19-19] Office of Management and Budget (2019) Update on Data Center \\nOptimization Initiative (DCOI). (The White House, Washington, DC), OMB Memorand um M -19-19, June 25, 2019. Available at \\nhttps://datacenters.cio.gov/assets/files/m_19_19.pdf  \\n[M-19-26] Office of Management and Budget (2019) Update to the Trusted Internet \\nConnections ( TIC) Initiative. (The White House, Washington, DC), OMB \\nMemorandum M -19-26, September 12, 2019. Available at  \\nhttps://www.whitehouse.gov/wp- content/uploads/2019/09/M -19-26.pdf  \\n \\n[NISTIR 7987]  Ferraiolo DF, Gavrila S, Jansen W (2015) Policy Machine: Features, \\nArchitecture, and Specification. (National Institute of Standards and \\nTechnology, Gaithersburg, MD), NIST Interagency or Internal Report (IR) 7987, Rev. 1. \\nhttps://doi.org/10.6028/NIST.IR.7987r1   \\n[NISTIR 8062]  Brooks SW, Garcia ME, Lefkovitz NB, Lightman S, Nadeau EM (2017) \\nAn Introduction to Privacy Engineering and Risk Management in Federal Systems.  (National Institute of Standards and Technology, Gaithersburg, \\nMD), NIST Interagency or Internal Report (IR) 806 2. \\nhttps://doi.org/10.6028/NIST.IR.8062  \\n[NISTPRIV]  National Institute of Standards and Technology (2020) Privacy \\nFramework: A Tool for Improving Privacy Through Enterprise Risk Management , Version 1.0. (National Institute of Standards and \\nTechnology, Gaithersburg, MD). \\nhttps://doi.org/10.6028/NIST.CSWP.01162020   \\n[SDNBOOK]  Nadeau T, Gray  K (2013) SDN: Software Defined Networks: An \\nAuthoritative Review of Network Programmability Technologies. (O’Reilly) 1\\nst Ed. \\n[SP800 -37] Joint Task Force (2018) Risk Management Framework for Information \\nSystems and Organizations: A System Life Cycle Approac h for Security \\nand Privacy. (National Institute of Standards and Technology, Gaithersburg, MD), NIST Special Publication (SP) 800 -37, Rev. 2. \\nhttps://doi.org/10 .6028/NIST.SP.800- 37r2', metadata={'source': 'https://nvlpubs.nist.gov/nistpubs/SpecialPublications/NIST.SP.800-207.pdf', 'page': 51}),\n",
       " Document(page_content='NIST  SP 800-207  ZERO TRUST ARCHITECTURE  \\n   \\n34 \\nThis publication is available free of charge from: https:// doi.org/10.6028/ NIST.SP.800 -207 6.5 ZTA and EINSTEIN (NCPS –  National Cybersecurity Protection System)  \\nNCPS (operationally known as EINSTEIN) is an integrated system -of-systems that delivers \\nintrusion detection, advanced analytics, information sharing, and intrusion pre vention \\ncapabilities to defend the Federal Government from cyber threats. The goals of NCPS, which \\nalign with the overarching goals of zero trust, are to manage cyber risk, improve cyber protection, and empower partners to secure cyber space. EINSTE IN sensors enable CISA’s \\nNational Cybersecurity and Communications Integration Center (NCCIC) to defend federal networks and respond to significant incidents at federal agencies.  \\nThe placement of NCPS sensors for DHS situational awareness is based on a per imeter network \\ndefense in the Federal Government, while ZTA move s protections closer to the assets, data and \\nall other resources. The NCPS program is evolving to ensure that situational awareness is \\npreserved through utilization of security information about cloud- based traffic , helping to set the \\nfoundation for expanded situational awareness telemetry from ZTA systems. NCPS intrusion prevention functions would also require evolution to be able to inform policy enforcement at both the current NCPS locations  as well as ZTA systems. As ZTA is adopted across the Federal \\nGovernment, the NCPS implementation would need to continually evolve, or new capabilities would need to be deployed to fulfill NCPS objectives. Incident responders could potentially leverage inf ormation from the authentication, traffic inspection, and logging of agency traffic \\navailable to federal agencies that have implemented a zero trust architecture. Information generated in a ZTA may better inform event impact quantification; machine learnin g tools could \\nuse ZTA data to improve detection; and additional logs from ZTA may be saved for after -the-\\nfact analyses by incident responders.  \\n6.6 ZTA and DHS Continuous Diagnostics and Mitigations (CDM) Program  \\nThe DHS CDM program is an effort to improve fede ral agency information technology (IT). \\nVital to that posture is an agency’s insight into the assets, configuration, and subjects within \\nitself. To protect a system, agencies need to set up processes to discover and understand the basic components and acto rs in their infrastructure:  \\n• What is connected?  What devices, applications, and services are used by the \\norganization? This includes observing and improving the security posture of these artifacts as vulnerabilities and threats are discovered.  \\n• Who is using  the network? What users are part of the organization or are external and \\nallowed to access enterprise resources? These include NPEs that may be performing autonomous actions.  \\n• What is happening on the network?  An enterprise needs insight into traffic patte rns \\nand messages between systems.  \\n• How is data protected?  The enterprise needs a set policy on how information is \\nprotected at rest, in transit, and in use. \\nHaving a strong CDM program implementation is key to the success of ZTA. For example, to move to ZTA , an enterprise must have a system to discover and record physical and virtual \\nassets to create a usable inventory. The DHS CDM program has initiated several efforts to build the capabilities needed within federal agencies to move to a ZTA. For example, th e DHS', metadata={'source': 'https://nvlpubs.nist.gov/nistpubs/SpecialPublications/NIST.SP.800-207.pdf', 'page': 42}),\n",
       " Document(page_content='NIST  SP 800-207  ZERO TRUST ARCHITECTURE  \\n   \\nvi \\nThis publication is available free of charge from: https:// doi.org/10.6028/ NIST.SP.800 -207 5.5 Storage of System and Network Information ................................................ 30 \\n5.6 Reliance on Proprietary Data Formats or Solutions  ...................................... 30 \\n5.7 Use of Non- person Entities (NPE) in ZTA Administration  ............................. 30 \\n6 Zero Trust Architecture and Possible Interactions with Existing Federal \\nGuidance ...................................................................................................................... 32 \\n6.1 ZTA and NIST Risk Management Framework  .............................................. 32 \\n6.2 Zero Trust and NIST Privacy Framework  ...................................................... 32 \\n6.3 ZTA and Federal Identity, Credential, and Access Management Architecture\\n 33 \\n6.4 ZTA and Trusted Internet Connections 3.0 ................................................... 33 \\n6.5 ZTA and EINSTEIN (NCPS –  National Cybersecurity Protection System)  ... 34 \\n6.6 ZTA and DHS Continuous Diagnostics and Mitigations (CDM) Program  ...... 34 \\n6.7 ZTA, Cloud Smart, and the Federal Data Strategy  ....................................... 35 \\n7 Migrating to a Zero Trust Architecture ............................................................... 36 \\n7.1 Pure Zero Trust Architecture ......................................................................... 36 \\n7.2 Hybrid ZTA and Perimeter -Based Architecture ............................................. 36 \\n7.3 Steps to Introducing ZTA to a Perimeter -Based Architected Network  ........... 37 \\n7.3.1  Identify Actors on the Enterprise ........................................................ 38 \\n7.3.2  Identify Assets Owned by the Enterprise ............................................ 38 \\n7.3.3  Identify Key Processes and Evaluate Risks Associated with Executing \\nProcess  ......................................................................................................... 39 \\n7.3.4  Formulating Policies for the ZTA Candidate  ....................................... 39 \\n7.3.5  Identifying Candidate Solutions  .......................................................... 40 \\n7.3.6  Initial Deployment and Monitoring ...................................................... 40 \\n7.3.7  Expanding the ZTA  ............................................................................. 41 \\nReferences ................................................................................................................... 42 \\n \\nList of Appendices  \\nAppendix A — Acronyms ............................................................................................ 45 \\nAppendix B — Identified Gaps in the Current State- of-the-Art in ZTA  .................... 46 \\nB.1 Technology Survey  ....................................................................................... 46 \\nB.2 Gaps that Prevent an Immediate Move to ZTA  ............................................. 47 \\nB.2.1  Lack of Common Terms for ZTA Design, Planning, and Procurement  47 \\nB.2.2  Perception that ZTA Conflicts with Exist ing Federal Cybersecurity', metadata={'source': 'https://nvlpubs.nist.gov/nistpubs/SpecialPublications/NIST.SP.800-207.pdf', 'page': 7}),\n",
       " Document(page_content='NIST  SP 800-207  ZERO TRUST ARCHITECTURE  \\n   \\n4 \\nThis publication is available free of charge from: https:// doi.org/10.6028/ NIST.SP.800 -207 2 Zero Trust Basics \\nZero trust is a cybersecurity paradigm focused on resource protection and the premise that trust \\nis never granted implicitly but must be continually evaluated. Zero trust architecture is an end -to-\\nend approach to enterprise resource and data security that encompasses identity (person and non-\\nperson entities), credentials, access management, operations, endpoints, hosting environments, and the interconnecting infrastructure. The initial focus should be on restricting resources to \\nthose with a need to access and grant only the minimum privileges (e.g., read, write, delete) \\nneeded to perform the mission. Traditionally, agencies (and enterprise networks in general) have \\nfocused on perimeter defense and authenticated subjects are given authorized access to a broad collection of resources once on the internal network. As a result, unauthorized lateral movement within the environment  has been one of the biggest challenges for federal agencies.  \\nThe Trusted Internet Connections (TIC) and agency perimeter firewalls pr ovide strong internet \\ngateways. This helps block attackers from the internet, but the TICs and perimeter firewalls are less useful for detecting and blocking attacks from inside the network and cannot protect subjects outside of the enterprise perimeter (e .g., remote workers, cloud- based services, edge devices, \\netc.).  \\nAn operative definition of zero trust and zero trust architecture is as follows: \\nZero t rust (ZT) provides a collection of concepts and ideas designed to minimize \\nuncertainty in enforcing accurate, least privilege per -request access decisions in \\ninformation systems and services in the face of a network viewed as compromised. Zero trust architectu re (ZTA) is an enterprise’s cybersecurity plan that utilizes zero trust \\nconcepts and encompasses component relationships, workflow planning, and access policies . Therefore, a zero trust enterprise  is the network infrastructure (physical and \\nvirtual) and op erational policies that are in place for an enterprise as a product of a zero \\ntrust architecture plan.  \\nAn enterprise decides to adopt zero trust as its core strategy  and generate a zero trust architecture \\nas a plan developed with zero trust principles (see  Section 2.1  below) in mind. This plan is then \\ndeployed to produce a zero trust environment for use in the enterprise.   \\nThis definition focuses on the crux of the i ssue, which is the goal to prevent unauthorized access \\nto data and services  coupled with making the access control enforcement as granular a s \\npossible . That is, authorized and approved subjects (combination of user, application (or service), \\nand device) ca n access the data to the exclusion of all other subjects (i.e., attackers). To take this \\none step further, the word “resource” can be substituted for “data” so that ZT and ZTA are about resource access (e.g., printers, compute resources, Internet of Things [IoT] actuators) and not just data access.  \\nTo lessen uncertainties (as they cannot be eliminated), the focus is on authentication, authorization, and shrinking implicit trust zones while maintaining availability and minimizing temporal delays in authentication mechanisms. Access rules are made as granular as possible to \\nenforce least privileges needed to perform the action in the request .', metadata={'source': 'https://nvlpubs.nist.gov/nistpubs/SpecialPublications/NIST.SP.800-207.pdf', 'page': 12})]"
      ]
     },
     "execution_count": 6,
     "metadata": {},
     "output_type": "execute_result"
    }
   ],
   "source": [
    "faiss_index.similarity_search(\"Multicloud\")"
   ]
  },
  {
   "cell_type": "code",
   "execution_count": 7,
   "metadata": {},
   "outputs": [],
   "source": [
    "retriever = faiss_index.as_retriever()"
   ]
  },
  {
   "cell_type": "code",
   "execution_count": 8,
   "metadata": {},
   "outputs": [
    {
     "data": {
      "text/plain": [
       "[Document(page_content='NIST  SP 800-207  ZERO TRUST ARCHITECTURE  \\n   \\n5 \\nThis publication is available free of charge from: https:// doi.org/10.6028/ NIST.SP.800 -207 In the abstract model of access shown in Figure 1, a subject needs access to an enterprise \\nresource. Access is granted through a policy decision point (PDP) and corresponding policy enforcement point (PEP).\\n3  \\n \\n \\nFigure 1: Zero Trust Access  \\nThe system must ensure that the subject is authentic and the request is valid. The PDP/PEP passes proper judgment to allow the subject to access the resource. This implies that zero trust applies to two basic areas: authentication and authorization. What is the level of confidence about the subject’s identity for this unique request? Is access to the resource al lowable given the \\nlevel of confidence in the subject’s identity? Does the device used for the request have the proper security posture? Are there other factors that should be considered and that change the confidence level (e.g., time, location of subject, subject’s security posture)? Overall, enterprises need to develop and maintain dynamic risk- based policies for resource access and set up a \\nsystem to ensure that these policies are enforced correctly and consistently for individual resource access request s. This means that an enterprise should not rely on implied \\ntrustworthiness wherein if the subject has met a base authentication level (e.g., logging into an asset), all subsequent resource requests are assumed to be equally valid .  \\nThe “implicit trust zon e” represents an area where all the entities are trusted to at least the level \\nof the last PDP/PEP gateway. For example, consider the passenger screening model in an airport. All passengers pass through the airport security checkpoint (PDP/PEP) to access t he boarding \\ngates. The passengers, airport employees, aircraft crew, etc. , mill about in the terminal area, and \\nall the individuals are considered trusted. In this model, the implicit trust zone is the boarding \\narea.  \\nThe PDP/PEP applies a set of controls so that all traffic beyond the PEP has a common level of trust. The PDP/PEP cannot apply additional policies beyond its location in the flow of traffic. To allow the PDP/PEP to be as specific as possible, the implicit trust zone must be as small as possible.  \\nZero trust provides a set of principles and concepts around moving the PDP/PEPs  closer to the \\nresource. The idea is to explicitly authenticate and authorize all subjects, assets and workflows \\nthat make up the enterprise.  \\n \\n3 Part of the concepts defined in OASIS XACML 2.0 https://docs.oasis-open.org/xacml/2.0/access_control-xacml -2.0-core-spec -\\nos.pdf', metadata={'source': 'https://nvlpubs.nist.gov/nistpubs/SpecialPublications/NIST.SP.800-207.pdf', 'page': 13}),\n",
       " Document(page_content='NIST  SP 800-207  ZERO TRUST ARCHITECTURE  \\n   \\n50 \\nThis publication is available free of charge from: https:// doi.org/10.6028/ NIST.SP.800 -207 not be able to communicate with other components. For example, PE and PA components \\nlocated in a cloud may be reachable during a distributed denial -of-service (DDoS) attack but may \\nnot be able to reach all PEPs located with resources. Research is needed on discovering the possible choke points of ZTA deployment models and the impact on network operations when a ZTA component is unreachable or has limited reachability.  \\nThe continuity of operations (COOP) plans for an enterprise will l ikely need revision when \\nadopting a ZTA. A ZTA makes many COOP factors easier as remote workers may have the same access to resources that they had on -premises. However, policies like MFA may also have \\na negative impact if users are not properly trained or  lack experience. Users may forget or not \\nhave access to tokens and enterprise devices during an emergency, and that will impact the speed and effectiveness of enterprise business processes.  \\nB.5 References  \\n[1] Cam -Winget N (ed.), Appala S, Pope S, Saint -Andre  P (2019) Using \\nExtensible Messaging and Presence Protocol (XMPP) for Security Information Exchange . (Internet Engineering Task Force (IETF)), IETF Request for \\nComments (RFC) 8600. \\nhttps:/ /doi.org/10.17487/RFC8600  \\n \\n[2] Software Defined Perimeter Working Group “SDP Specification 1.0” Cloud \\nSecurity Alliance. April 2014.  \\n \\n[3] Stanton B, Theofanos MF, Spickard Prettyman S, Furman S (2016) Security \\nFatigue. IT Professional  18(5):26 -32. https://doi.org/10.1109/MITP.2016.84   \\n[4] Strouble D, Shechtman  GM, Alsop AS (2009) Productivity and Usability \\nEffects of Using a Two -Factor Security System. SAIS 2009 Proceedings  (AIS, \\nCharleston, SC), p 37. Available at http://aisel.aisne t.org/sais 2009/37  \\n[5] Weidman J, Grossklags J (2017) I Like It but I Hate It: Employee Perceptions \\nTowards an Institutional Transition to BYOD Second- Factor Authentication. \\nProceedings of the 33rd Annual Computer Security Applications Conference (ACSAC 20 17) (ACM, Orlando, FL), pp 212- 224. \\nhttps://doi.org/10.1145/3134600.3134629', metadata={'source': 'https://nvlpubs.nist.gov/nistpubs/SpecialPublications/NIST.SP.800-207.pdf', 'page': 58}),\n",
       " Document(page_content='NIST  SP 800-207  ZERO TRUST ARCHITECTURE  \\n   \\n31 \\nThis publication is available free of charge from: https:// doi.org/10.6028/ NIST.SP.800 -207 ZTA is an open issue. It is assumed that most automated technology systems will use some \\nmeans to authenticate when using an API to resource components.   \\nThe biggest risk when using automated technology for configuration and policy enforcement is the possibility of false positives (innocuous actions mistaken for attacks) and false negatives (attacks mistaken for normal activity) impacting the security posture of the enterprise. This can \\nbe reduced with regular retuning analysis to correct mistaken decisions and improve the decision process.  \\nThe associated risk is that an attacker will be able to  induce or coerce an NPE to perform some \\ntask that the attacker is not privileged to perform. The software agent may have a lower bar for authentication (e.g., API key versus MFA) to perform administrative or security -related tasks \\ncompared with a human us er. If an attacker can interact with the agent, they could theoretically \\ntrick the agent into allowing the attacker greater access or into performing some task on behalf of the attacker. There is also a risk that an attacker could gain access to a software agent’s credentials and impersonate the agent when performing tasks.', metadata={'source': 'https://nvlpubs.nist.gov/nistpubs/SpecialPublications/NIST.SP.800-207.pdf', 'page': 39}),\n",
       " Document(page_content='NIST  SP 800-207  ZERO TRUST ARCHITECTURE  \\n   \\n22 \\nThis publication is available free of charge from: https:// doi.org/10.6028/ NIST.SP.800 -207 application/service data traffic. The policy engine, policy ad ministrator, and PEPs use the \\ncontrol plane to communicate and manage communication paths between assets. The \\nPEPs must be able to send and receive messages from both the data and control planes.  \\n6. Enterprise assets can reach the PEP component.  Enterprise su bjects must be able to \\naccess the PEP component to gain access to resources. This could take the form of a web portal, network device, or software agent on the enterprise asset that enables the connection.  \\n7. The PEP is the only component that accesses the p olicy administrator as part of a \\nbusiness flow.  Each PEP operating on the enterprise network has a connection to the \\npolicy administrator to establish communication paths from clients to resources. All enterprise business process traffic passes through one or more PEPs.  \\n8. Remote enterprise asset s should be able to access enterprise resources without \\nneeding to traverse enterprise network infrastructur e first . For example, a remote \\nsubject should not be required to use a link back to the enterprise network (i .e., virtual \\nprivate network [VPN]) to access services utilized by the enterprise and hosted by a public cloud provider (e.g., email).  \\n9. The infrastructure used to support the ZTA access decision process should be made scalable to account for changes in process load . The PE(s), PA(s), and PEPs used in a \\nZTA become the key components in any business process. Delay or inability to reach a PEP (or inability of the PEPs to reach the PA/PE) negatively impacts the ability to perform the workflow. An enterprise impl ementing a ZTA needs to provision the \\ncomponents for the expected workload or be able to rapidly scale the infrastructure to handle increased usage when needed.  \\n10. Enterprise asset s may not be able to reach certain PEPs due to  policy or  observable \\nfactors . For example, there may be a policy stating that mobile assets may not be able to \\nreach certain resources if the requesting asset is located outside of the enterprise’s home country. These factors could be based on location (geolocation or network location), device type, or other criteria.', metadata={'source': 'https://nvlpubs.nist.gov/nistpubs/SpecialPublications/NIST.SP.800-207.pdf', 'page': 30})]"
      ]
     },
     "execution_count": 8,
     "metadata": {},
     "output_type": "execute_result"
    }
   ],
   "source": [
    "retriever.invoke(\"References\")"
   ]
  },
  {
   "cell_type": "markdown",
   "metadata": {},
   "source": [
    "## Prompt with Retreival\n",
    "\n",
    "Following https://medium.com/scrapehero/building-qa-bot-with-ollama-local-llm-platform-c11d1e1f3035"
   ]
  },
  {
   "cell_type": "code",
   "execution_count": 9,
   "metadata": {},
   "outputs": [],
   "source": [
    "from langchain import PromptTemplate\n",
    "\n",
    "template = \"\"\"Use the following pieces of context to answer the question at the end.\n",
    "If you don’t know the answer, just say that you don’t know, don’t try to make up an answer.\n",
    "Use three sentences maximum and keep the answer as concise as possible.\n",
    "{context}\n",
    "Question: {question}\n",
    "Helpful Answer:\"\"\"\n",
    "\n",
    "prompt = PromptTemplate(input_variables=[\"context\", \"question\"], template=template)"
   ]
  },
  {
   "cell_type": "code",
   "execution_count": 10,
   "metadata": {},
   "outputs": [],
   "source": [
    "from langchain.chains import RetrievalQA\n",
    "\n",
    "chain = RetrievalQA.from_chain_type(llm, retriever=retriever, chain_type_kwargs={\"prompt\": prompt})"
   ]
  },
  {
   "cell_type": "code",
   "execution_count": 11,
   "metadata": {},
   "outputs": [
    {
     "name": "stdout",
     "output_type": "stream",
     "text": [
      "The document \"NIST SP 800-207 Zero Trust Architecture\" provides a framework for protecting enterprise resources and data by assuming that all access to resources is untrusted, regardless of the user's location or device. The zero trust architecture focuses on restricting resource access to only those with a legitimate need to access them, and granting access only to the minimum privileges required to perform the intended action. The document provides guidelines for implementing a zero trust architecture, including:\n",
      "\n",
      "1. Understanding the basics of zero trust and its importance in protecting enterprise resources.\n",
      "2. Identifying the key components of a zero trust architecture, including the policy engine, policy administrator, and the underlying infrastructure.\n",
      "3. Discussing the potential threats to a zero trust architecture, such as unauthorized access, network disruptions, and denial-of-service attacks.\n",
      "4. Providing recommendations for mitigating these threats, including proper configuration and monitoring of the policy engine and policy administrator, as well as replication of the policy enforcement in a secure cloud environment.\n",
      "5. Emphasizing the importance of evaluating the zero trust architecture regularly to ensure its effectiveness in protecting enterprise resources.\n",
      "\n",
      "In summary, the document provides a comprehensive guide for implementing a zero trust architecture in an enterprise network, focusing on resource protection and the minimization of implicit trust zones.\n"
     ]
    }
   ],
   "source": [
    "print(chain.invoke({\"query\": \"Summarize the document.\"})['result'])"
   ]
  }
 ],
 "metadata": {
  "kernelspec": {
   "display_name": "spbot--a0a-mZv-py3.11",
   "language": "python",
   "name": "python3"
  },
  "language_info": {
   "codemirror_mode": {
    "name": "ipython",
    "version": 3
   },
   "file_extension": ".py",
   "mimetype": "text/x-python",
   "name": "python",
   "nbconvert_exporter": "python",
   "pygments_lexer": "ipython3",
   "version": "3.11.8"
  }
 },
 "nbformat": 4,
 "nbformat_minor": 2
}
